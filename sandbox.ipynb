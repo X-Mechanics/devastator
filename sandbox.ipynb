{
 "cells": [
  {
   "cell_type": "code",
   "execution_count": 1,
   "id": "b352afba",
   "metadata": {},
   "outputs": [],
   "source": [
    "from IPython.core.interactiveshell import InteractiveShell\n",
    "InteractiveShell.ast_node_interactivity = \"all\""
   ]
  },
  {
   "cell_type": "markdown",
   "id": "ac7e40c0",
   "metadata": {},
   "source": [
    "## Import external dependencies"
   ]
  },
  {
   "cell_type": "code",
   "execution_count": 2,
   "id": "e8767040",
   "metadata": {},
   "outputs": [],
   "source": [
    "import argparse\n",
    "import time\n",
    "import math\n",
    "import os\n",
    "import itertools\n",
    "\n",
    "import numpy as np\n",
    "\n",
    "import torch\n",
    "import torch.nn as nn\n",
    "import torch.optim as optim\n",
    "# import devastator.blur as blur"
   ]
  },
  {
   "cell_type": "markdown",
   "id": "4f5a2dd0",
   "metadata": {},
   "source": [
    "## Import Blur modules"
   ]
  },
  {
   "cell_type": "code",
   "execution_count": 3,
   "id": "4ebc4522",
   "metadata": {},
   "outputs": [],
   "source": [
    "from blur import init_config_run, Config, Trainer, ScheduledOptimizer\n",
    "from blur import Blur, DecoderXL, AdaptiveInput, AdaptiveLogSoftmaxWithLoss\n",
    "from blur.processing import get_lm_corpus"
   ]
  },
  {
   "cell_type": "markdown",
   "id": "1d26b598",
   "metadata": {},
   "source": [
    "## Define model and training configuration"
   ]
  },
  {
   "cell_type": "code",
   "execution_count": 4,
   "id": "7d0f68ad",
   "metadata": {},
   "outputs": [],
   "source": [
    "###############################################################################\n",
    "# Define config paths\n",
    "###############################################################################\n",
    "\n",
    "config_dir = os.path.join('configs', 'xl')\n",
    "config_run_path = os.path.join(config_dir, 'config_run.json')\n",
    "config_encoder_path = os.path.join(config_dir, 'config_encoder.json')\n",
    "config_decoder_path = os.path.join(config_dir, 'config_decoder.json')\n",
    "\n",
    "###############################################################################\n",
    "# Load config files\n",
    "###############################################################################\n",
    "\n",
    "\n",
    "config_model = Config(**{\"tgt_len\": 150, \"mem_len\": 150, \"ext_len\": 0})\n",
    "config_run = init_config_run(config_run=Config.from_json(config_run_path), config_model=config_model)\n",
    "config_encoder = Config.from_json(config_encoder_path)\n",
    "config_decoder = Config.from_json(config_decoder_path)"
   ]
  },
  {
   "cell_type": "markdown",
   "id": "0bcf233a",
   "metadata": {},
   "source": [
    "## Set parameters for sandbox testing"
   ]
  },
  {
   "cell_type": "code",
   "execution_count": 5,
   "id": "ce0deb45",
   "metadata": {},
   "outputs": [],
   "source": [
    "device = 'cpu'\n",
    "config_run.multi_gpu = False\n",
    "config_run.max_step = 100"
   ]
  },
  {
   "cell_type": "markdown",
   "id": "46c206c0",
   "metadata": {},
   "source": [
    "## Load data and set vocabulary length"
   ]
  },
  {
   "cell_type": "code",
   "execution_count": 6,
   "id": "04edb3c8",
   "metadata": {},
   "outputs": [
    {
     "name": "stdout",
     "output_type": "stream",
     "text": [
      "Loading cached dataset...\n"
     ]
    }
   ],
   "source": [
    "###############################################################################\n",
    "# Load data\n",
    "###############################################################################\n",
    "\n",
    "corpus = get_lm_corpus(config_run.data, config_run.dataset)\n",
    "config_encoder.n_classes = len(corpus.vocab)"
   ]
  },
  {
   "cell_type": "markdown",
   "id": "75cc8d22",
   "metadata": {},
   "source": [
    "## Build model"
   ]
  },
  {
   "cell_type": "code",
   "execution_count": 7,
   "id": "3f54f792",
   "metadata": {},
   "outputs": [],
   "source": [
    "###############################################################################\n",
    "# Build the model\n",
    "###############################################################################\n",
    "\n",
    "model = Blur(\n",
    "    tgt_len = 150, mem_len = 150, ext_len = 0,\n",
    "    encoder = AdaptiveInput(**config_encoder.parameters()),\n",
    "    decoder = DecoderXL(**config_decoder.parameters()),\n",
    "    lm_loss = AdaptiveLogSoftmaxWithLoss(**config_encoder.parameters()),\n",
    ")\n",
    "model.to(device)\n",
    "para_model = None\n",
    "trainer = Trainer(config_run = config_run, device = device)\n",
    "\n",
    "pass;"
   ]
  },
  {
   "cell_type": "markdown",
   "id": "2330c0bf",
   "metadata": {},
   "source": [
    "## Load some example data"
   ]
  },
  {
   "cell_type": "code",
   "execution_count": 8,
   "id": "56f34293",
   "metadata": {},
   "outputs": [],
   "source": [
    "train_iter = trainer.get_train_iter(corpus, model)\n",
    "detokenize_fn = np.vectorize(lambda x: corpus.vocab.idx2sym[x])\n",
    "\n",
    "iterdata = {}\n",
    "mems = tuple()\n",
    "\n",
    "for batch, (data, target, seq_len) in enumerate(train_iter):\n",
    "    iterdata[batch] = (data, target, mems)\n",
    "    \n",
    "#     ret = model(data, target, *mems)\n",
    "#     loss, mems = ret[0], ret[1:]\n",
    "#     loss = loss.float().mean().type_as(loss)\n",
    "    \n",
    "    if batch>2:\n",
    "        break"
   ]
  },
  {
   "cell_type": "markdown",
   "id": "92c5b1aa",
   "metadata": {},
   "source": [
    "## Inspect example data"
   ]
  },
  {
   "cell_type": "code",
   "execution_count": 9,
   "id": "56d5042e",
   "metadata": {},
   "outputs": [
    {
     "data": {
      "text/plain": [
       "array(['=', 'Valkyria', 'Chronicles', 'III', '=', '<eos>', '<eos>',\n",
       "       'Senjō', 'no', 'Valkyria', '3', ':', '<unk>', 'Chronicles', '(',\n",
       "       'Japanese', ':', '戦場のヴァルキュリア3', ',', 'lit', '.', 'Valkyria', 'of',\n",
       "       'the', 'Battlefield', '3', ')', ',', 'commonly', 'referred', 'to',\n",
       "       'as', 'Valkyria', 'Chronicles', 'III', 'outside', 'Japan', ',',\n",
       "       'is', 'a', 'tactical', 'role', '@-@', 'playing', 'video', 'game',\n",
       "       'developed', 'by', 'Sega', 'and'], dtype='<U12')"
      ]
     },
     "execution_count": 9,
     "metadata": {},
     "output_type": "execute_result"
    },
    {
     "data": {
      "text/plain": [
       "array(['working', 'with', 'Major', 'General', 'Leslie', 'R.', 'Groves',\n",
       "       ',', 'Jr', '.', \"'\", 's', 'Manhattan', 'Project', ',', 'Tibbets',\n",
       "       'selected', 'Wendover', 'for', 'his', 'training', 'base', 'over',\n",
       "       'Great', 'Bend', 'Army', 'Air', 'Field', ',', 'Kansas', ',', 'and',\n",
       "       'Mountain', 'Home', 'Army', 'Airfield', ',', 'Idaho', ',',\n",
       "       'because', 'of', 'its', 'remoteness', '.', 'On', '14', 'September',\n",
       "       '1944', ',', 'the'], dtype='<U11')"
      ]
     },
     "execution_count": 9,
     "metadata": {},
     "output_type": "execute_result"
    }
   ],
   "source": [
    "detokenize_fn(iterdata[0][1][0,:])[:50]\n",
    "detokenize_fn(iterdata[0][1][1,:])[:50]"
   ]
  },
  {
   "cell_type": "markdown",
   "id": "91560de5",
   "metadata": {},
   "source": [
    "## Run data through model"
   ]
  },
  {
   "cell_type": "code",
   "execution_count": 10,
   "id": "6a8a74af",
   "metadata": {},
   "outputs": [
    {
     "data": {
      "text/plain": [
       "{'output': torch.Size([150, 24, 410]),\n",
       " 'mems': 17,\n",
       " 'loss': torch.Size([150, 24])}"
      ]
     },
     "execution_count": 10,
     "metadata": {},
     "output_type": "execute_result"
    }
   ],
   "source": [
    "output = model(*iterdata[0])\n",
    "{k:v.shape if hasattr(v, 'shape') else len(v) for k,v in output.items()}"
   ]
  },
  {
   "cell_type": "code",
   "execution_count": null,
   "id": "4483d73d",
   "metadata": {},
   "outputs": [],
   "source": []
  }
 ],
 "metadata": {
  "kernelspec": {
   "display_name": "py37",
   "language": "python",
   "name": "py37"
  },
  "language_info": {
   "codemirror_mode": {
    "name": "ipython",
    "version": 3
   },
   "file_extension": ".py",
   "mimetype": "text/x-python",
   "name": "python",
   "nbconvert_exporter": "python",
   "pygments_lexer": "ipython3",
   "version": "3.7.10"
  }
 },
 "nbformat": 4,
 "nbformat_minor": 5
}
